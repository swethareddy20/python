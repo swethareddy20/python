{
 "cells": [
  {
   "cell_type": "code",
   "execution_count": 66,
   "id": "57f2aea6",
   "metadata": {},
   "outputs": [],
   "source": [
    "import pandas as pd\n",
    "import numpy as np\n",
    "import matplotlib.pyplot as plt\n",
    "%matplotlib inline"
   ]
  },
  {
   "cell_type": "code",
   "execution_count": 67,
   "id": "4f25a9db",
   "metadata": {},
   "outputs": [
    {
     "name": "stdout",
     "output_type": "stream",
     "text": [
      "C:\\Users\\lokes\\Downloads\n"
     ]
    }
   ],
   "source": [
    "import io\n",
    "%cd \"C:\\Users\\lokes\\Downloads\""
   ]
  },
  {
   "cell_type": "code",
   "execution_count": 68,
   "id": "51566d22",
   "metadata": {},
   "outputs": [
    {
     "name": "stdout",
     "output_type": "stream",
     "text": [
      "C:\\Users\\lokes\\Downloads\n"
     ]
    }
   ],
   "source": [
    "import io \n",
    "%cd \"C:\\Users\\lokes\\Downloads\""
   ]
  },
  {
   "cell_type": "code",
   "execution_count": 69,
   "id": "006d19ee",
   "metadata": {},
   "outputs": [],
   "source": [
    "hrtrain=pd.read_csv(\"train_LZdllcl.csv\")"
   ]
  },
  {
   "cell_type": "code",
   "execution_count": 70,
   "id": "58fbacf7",
   "metadata": {},
   "outputs": [],
   "source": [
    "hrtest=pd.read_csv(\"test_2umaH9m.csv\")"
   ]
  },
  {
   "cell_type": "code",
   "execution_count": 71,
   "id": "f9206301",
   "metadata": {},
   "outputs": [
    {
     "name": "stdout",
     "output_type": "stream",
     "text": [
      "<class 'pandas.core.frame.DataFrame'>\n",
      "RangeIndex: 54808 entries, 0 to 54807\n",
      "Data columns (total 14 columns):\n",
      " #   Column                Non-Null Count  Dtype  \n",
      "---  ------                --------------  -----  \n",
      " 0   employee_id           54808 non-null  int64  \n",
      " 1   department            54808 non-null  object \n",
      " 2   region                54808 non-null  object \n",
      " 3   education             52399 non-null  object \n",
      " 4   gender                54808 non-null  object \n",
      " 5   recruitment_channel   54808 non-null  object \n",
      " 6   no_of_trainings       54808 non-null  int64  \n",
      " 7   age                   54808 non-null  int64  \n",
      " 8   previous_year_rating  50684 non-null  float64\n",
      " 9   length_of_service     54808 non-null  int64  \n",
      " 10  KPIs_met >80%         54808 non-null  int64  \n",
      " 11  awards_won?           54808 non-null  int64  \n",
      " 12  avg_training_score    54808 non-null  int64  \n",
      " 13  is_promoted           54808 non-null  int64  \n",
      "dtypes: float64(1), int64(8), object(5)\n",
      "memory usage: 5.9+ MB\n"
     ]
    }
   ],
   "source": [
    "hrtrain.info()"
   ]
  },
  {
   "cell_type": "code",
   "execution_count": 72,
   "id": "91fc779c",
   "metadata": {},
   "outputs": [
    {
     "name": "stdout",
     "output_type": "stream",
     "text": [
      "<class 'pandas.core.frame.DataFrame'>\n",
      "RangeIndex: 23490 entries, 0 to 23489\n",
      "Data columns (total 13 columns):\n",
      " #   Column                Non-Null Count  Dtype  \n",
      "---  ------                --------------  -----  \n",
      " 0   employee_id           23490 non-null  int64  \n",
      " 1   department            23490 non-null  object \n",
      " 2   region                23490 non-null  object \n",
      " 3   education             22456 non-null  object \n",
      " 4   gender                23490 non-null  object \n",
      " 5   recruitment_channel   23490 non-null  object \n",
      " 6   no_of_trainings       23490 non-null  int64  \n",
      " 7   age                   23490 non-null  int64  \n",
      " 8   previous_year_rating  21678 non-null  float64\n",
      " 9   length_of_service     23490 non-null  int64  \n",
      " 10  KPIs_met >80%         23490 non-null  int64  \n",
      " 11  awards_won?           23490 non-null  int64  \n",
      " 12  avg_training_score    23490 non-null  int64  \n",
      "dtypes: float64(1), int64(7), object(5)\n",
      "memory usage: 2.3+ MB\n"
     ]
    }
   ],
   "source": [
    "hrtest.info()"
   ]
  },
  {
   "cell_type": "code",
   "execution_count": 73,
   "id": "97ce3ab3",
   "metadata": {},
   "outputs": [],
   "source": [
    "#for preprocessing concat both dataframes\n",
    "#Add dependent variable temporiLY to test data\n",
    "hrtest['is_promoted']='test'"
   ]
  },
  {
   "cell_type": "code",
   "execution_count": 74,
   "id": "5a78056c",
   "metadata": {},
   "outputs": [],
   "source": [
    "#concat both dataframes-Row concatenation\n",
    "combinedf=pd.concat([hrtrain,hrtest],axis=0)"
   ]
  },
  {
   "cell_type": "code",
   "execution_count": 75,
   "id": "86832d3c",
   "metadata": {},
   "outputs": [
    {
     "data": {
      "text/plain": [
       "Index(['employee_id', 'department', 'region', 'education', 'gender',\n",
       "       'recruitment_channel', 'no_of_trainings', 'age', 'previous_year_rating',\n",
       "       'length_of_service', 'KPIs_met >80%', 'awards_won?',\n",
       "       'avg_training_score', 'is_promoted'],\n",
       "      dtype='object')"
      ]
     },
     "execution_count": 75,
     "metadata": {},
     "output_type": "execute_result"
    }
   ],
   "source": [
    "combinedf.columns"
   ]
  },
  {
   "cell_type": "code",
   "execution_count": 76,
   "id": "76d76680",
   "metadata": {},
   "outputs": [],
   "source": [
    "objcols=combinedf[['department', 'region', 'education', 'gender','recruitment_channel',\n",
    "                   'previous_year_rating','KPIs_met >80%', 'awards_won?','is_promoted']]"
   ]
  },
  {
   "cell_type": "code",
   "execution_count": 77,
   "id": "4ac76587",
   "metadata": {},
   "outputs": [],
   "source": [
    "numcols=combinedf[['no_of_trainings', 'age','length_of_service','avg_training_score']]"
   ]
  },
  {
   "cell_type": "code",
   "execution_count": 78,
   "id": "20d647d6",
   "metadata": {},
   "outputs": [
    {
     "data": {
      "text/plain": [
       "Bachelor's          52247\n",
       "Master's & above    21429\n",
       "NaN                  3443\n",
       "Below Secondary      1179\n",
       "Name: education, dtype: int64"
      ]
     },
     "execution_count": 78,
     "metadata": {},
     "output_type": "execute_result"
    }
   ],
   "source": [
    "combinedf.education.value_counts(dropna=False)"
   ]
  },
  {
   "cell_type": "code",
   "execution_count": 79,
   "id": "97caa439",
   "metadata": {},
   "outputs": [
    {
     "name": "stdout",
     "output_type": "stream",
     "text": [
      "Sales & Marketing    24155\n",
      "Operations           16112\n",
      "Procurement          10158\n",
      "Technology           10149\n",
      "Analytics             7671\n",
      "Finance               3627\n",
      "HR                    3503\n",
      "Legal                 1484\n",
      "R&D                   1439\n",
      "Name: department, dtype: int64\n",
      "region_2     17642\n",
      "region_22     9167\n",
      "region_7      6825\n",
      "region_15     3938\n",
      "region_13     3815\n",
      "region_26     3271\n",
      "region_31     2779\n",
      "region_4      2478\n",
      "region_27     2369\n",
      "region_16     2055\n",
      "region_28     1913\n",
      "region_11     1886\n",
      "region_23     1691\n",
      "region_29     1408\n",
      "region_32     1378\n",
      "region_19     1284\n",
      "region_14     1177\n",
      "region_20     1176\n",
      "region_17     1157\n",
      "region_25     1156\n",
      "region_5      1108\n",
      "region_6       988\n",
      "region_30      930\n",
      "region_8       924\n",
      "region_10      917\n",
      "region_1       848\n",
      "region_24      727\n",
      "region_12      715\n",
      "region_9       600\n",
      "region_21      590\n",
      "region_3       493\n",
      "region_34      447\n",
      "region_33      395\n",
      "region_18       51\n",
      "Name: region, dtype: int64\n",
      "Bachelor's          52247\n",
      "Master's & above    21429\n",
      "NaN                  3443\n",
      "Below Secondary      1179\n",
      "Name: education, dtype: int64\n",
      "m    55092\n",
      "f    23206\n",
      "Name: gender, dtype: int64\n",
      "other       43524\n",
      "sourcing    33181\n",
      "referred     1593\n",
      "Name: recruitment_channel, dtype: int64\n",
      "3.0    26539\n",
      "5.0    16838\n",
      "4.0    14126\n",
      "1.0     8903\n",
      "2.0     5956\n",
      "NaN     5936\n",
      "Name: previous_year_rating, dtype: int64\n",
      "0    50578\n",
      "1    27720\n",
      "Name: KPIs_met >80%, dtype: int64\n",
      "0    76493\n",
      "1     1805\n",
      "Name: awards_won?, dtype: int64\n",
      "0       50140\n",
      "test    23490\n",
      "1        4668\n",
      "Name: is_promoted, dtype: int64\n"
     ]
    }
   ],
   "source": [
    "for i in objcols.columns:\n",
    "    freq=objcols[i].value_counts(dropna=False)\n",
    "    print(freq)"
   ]
  },
  {
   "cell_type": "code",
   "execution_count": 80,
   "id": "34140d30",
   "metadata": {},
   "outputs": [
    {
     "name": "stderr",
     "output_type": "stream",
     "text": [
      "C:\\Users\\lokes\\AppData\\Local\\Temp\\ipykernel_15228\\897392870.py:3: SettingWithCopyWarning: \n",
      "A value is trying to be set on a copy of a slice from a DataFrame.\n",
      "Try using .loc[row_indexer,col_indexer] = value instead\n",
      "\n",
      "See the caveats in the documentation: https://pandas.pydata.org/pandas-docs/stable/user_guide/indexing.html#returning-a-view-versus-a-copy\n",
      "  objcols[i]=objcols[i].fillna(objcols[i].value_counts().idxmax())\n",
      "C:\\Users\\lokes\\AppData\\Local\\Temp\\ipykernel_15228\\897392870.py:3: SettingWithCopyWarning: \n",
      "A value is trying to be set on a copy of a slice from a DataFrame.\n",
      "Try using .loc[row_indexer,col_indexer] = value instead\n",
      "\n",
      "See the caveats in the documentation: https://pandas.pydata.org/pandas-docs/stable/user_guide/indexing.html#returning-a-view-versus-a-copy\n",
      "  objcols[i]=objcols[i].fillna(objcols[i].value_counts().idxmax())\n",
      "C:\\Users\\lokes\\AppData\\Local\\Temp\\ipykernel_15228\\897392870.py:3: SettingWithCopyWarning: \n",
      "A value is trying to be set on a copy of a slice from a DataFrame.\n",
      "Try using .loc[row_indexer,col_indexer] = value instead\n",
      "\n",
      "See the caveats in the documentation: https://pandas.pydata.org/pandas-docs/stable/user_guide/indexing.html#returning-a-view-versus-a-copy\n",
      "  objcols[i]=objcols[i].fillna(objcols[i].value_counts().idxmax())\n",
      "C:\\Users\\lokes\\AppData\\Local\\Temp\\ipykernel_15228\\897392870.py:3: SettingWithCopyWarning: \n",
      "A value is trying to be set on a copy of a slice from a DataFrame.\n",
      "Try using .loc[row_indexer,col_indexer] = value instead\n",
      "\n",
      "See the caveats in the documentation: https://pandas.pydata.org/pandas-docs/stable/user_guide/indexing.html#returning-a-view-versus-a-copy\n",
      "  objcols[i]=objcols[i].fillna(objcols[i].value_counts().idxmax())\n",
      "C:\\Users\\lokes\\AppData\\Local\\Temp\\ipykernel_15228\\897392870.py:3: SettingWithCopyWarning: \n",
      "A value is trying to be set on a copy of a slice from a DataFrame.\n",
      "Try using .loc[row_indexer,col_indexer] = value instead\n",
      "\n",
      "See the caveats in the documentation: https://pandas.pydata.org/pandas-docs/stable/user_guide/indexing.html#returning-a-view-versus-a-copy\n",
      "  objcols[i]=objcols[i].fillna(objcols[i].value_counts().idxmax())\n",
      "C:\\Users\\lokes\\AppData\\Local\\Temp\\ipykernel_15228\\897392870.py:3: SettingWithCopyWarning: \n",
      "A value is trying to be set on a copy of a slice from a DataFrame.\n",
      "Try using .loc[row_indexer,col_indexer] = value instead\n",
      "\n",
      "See the caveats in the documentation: https://pandas.pydata.org/pandas-docs/stable/user_guide/indexing.html#returning-a-view-versus-a-copy\n",
      "  objcols[i]=objcols[i].fillna(objcols[i].value_counts().idxmax())\n",
      "C:\\Users\\lokes\\AppData\\Local\\Temp\\ipykernel_15228\\897392870.py:3: SettingWithCopyWarning: \n",
      "A value is trying to be set on a copy of a slice from a DataFrame.\n",
      "Try using .loc[row_indexer,col_indexer] = value instead\n",
      "\n",
      "See the caveats in the documentation: https://pandas.pydata.org/pandas-docs/stable/user_guide/indexing.html#returning-a-view-versus-a-copy\n",
      "  objcols[i]=objcols[i].fillna(objcols[i].value_counts().idxmax())\n",
      "C:\\Users\\lokes\\AppData\\Local\\Temp\\ipykernel_15228\\897392870.py:3: SettingWithCopyWarning: \n",
      "A value is trying to be set on a copy of a slice from a DataFrame.\n",
      "Try using .loc[row_indexer,col_indexer] = value instead\n",
      "\n",
      "See the caveats in the documentation: https://pandas.pydata.org/pandas-docs/stable/user_guide/indexing.html#returning-a-view-versus-a-copy\n",
      "  objcols[i]=objcols[i].fillna(objcols[i].value_counts().idxmax())\n",
      "C:\\Users\\lokes\\AppData\\Local\\Temp\\ipykernel_15228\\897392870.py:3: SettingWithCopyWarning: \n",
      "A value is trying to be set on a copy of a slice from a DataFrame.\n",
      "Try using .loc[row_indexer,col_indexer] = value instead\n",
      "\n",
      "See the caveats in the documentation: https://pandas.pydata.org/pandas-docs/stable/user_guide/indexing.html#returning-a-view-versus-a-copy\n",
      "  objcols[i]=objcols[i].fillna(objcols[i].value_counts().idxmax())\n"
     ]
    }
   ],
   "source": [
    "#most frequent imputation\n",
    "for i in objcols.columns:\n",
    "    objcols[i]=objcols[i].fillna(objcols[i].value_counts().idxmax())\n",
    "    \n",
    "#idxmax(): index corresponding to maximum frequency or most_frequent"
   ]
  },
  {
   "cell_type": "code",
   "execution_count": 81,
   "id": "e81f81d4",
   "metadata": {},
   "outputs": [
    {
     "data": {
      "text/plain": [
       "\"Bachelor's\""
      ]
     },
     "execution_count": 81,
     "metadata": {},
     "output_type": "execute_result"
    }
   ],
   "source": [
    "combinedf.education.value_counts().idxmax()"
   ]
  },
  {
   "cell_type": "code",
   "execution_count": 82,
   "id": "9ea7d97f",
   "metadata": {},
   "outputs": [
    {
     "data": {
      "text/plain": [
       "3.0"
      ]
     },
     "execution_count": 82,
     "metadata": {},
     "output_type": "execute_result"
    }
   ],
   "source": [
    "objcols.previous_year_rating.value_counts().idxmax()"
   ]
  },
  {
   "cell_type": "code",
   "execution_count": 83,
   "id": "9e5bc131",
   "metadata": {},
   "outputs": [
    {
     "data": {
      "text/plain": [
       "Index(['department', 'region', 'education', 'gender', 'recruitment_channel',\n",
       "       'previous_year_rating', 'KPIs_met >80%', 'awards_won?', 'is_promoted'],\n",
       "      dtype='object')"
      ]
     },
     "execution_count": 83,
     "metadata": {},
     "output_type": "execute_result"
    }
   ],
   "source": [
    "objcols.columns"
   ]
  },
  {
   "cell_type": "code",
   "execution_count": 84,
   "id": "22aa5894",
   "metadata": {},
   "outputs": [],
   "source": [
    "#dummy encoding only on independnt varaiables(X's)\n",
    "#label encoding only on dependent variable(y) in classification only\n",
    "objcols_dummy=pd.get_dummies(objcols,columns=['department', 'region', 'education', 'gender', 'recruitment_channel',\n",
    "       'previous_year_rating', 'KPIs_met >80%', 'awards_won?'])"
   ]
  },
  {
   "cell_type": "code",
   "execution_count": 85,
   "id": "e84a8ce5",
   "metadata": {},
   "outputs": [
    {
     "data": {
      "text/plain": [
       "(78298, 61)"
      ]
     },
     "execution_count": 85,
     "metadata": {},
     "output_type": "execute_result"
    }
   ],
   "source": [
    "objcols_dummy.shape"
   ]
  },
  {
   "cell_type": "code",
   "execution_count": 86,
   "id": "af900536",
   "metadata": {},
   "outputs": [
    {
     "data": {
      "text/html": [
       "<div>\n",
       "<style scoped>\n",
       "    .dataframe tbody tr th:only-of-type {\n",
       "        vertical-align: middle;\n",
       "    }\n",
       "\n",
       "    .dataframe tbody tr th {\n",
       "        vertical-align: top;\n",
       "    }\n",
       "\n",
       "    .dataframe thead th {\n",
       "        text-align: right;\n",
       "    }\n",
       "</style>\n",
       "<table border=\"1\" class=\"dataframe\">\n",
       "  <thead>\n",
       "    <tr style=\"text-align: right;\">\n",
       "      <th></th>\n",
       "      <th>is_promoted</th>\n",
       "      <th>department_Analytics</th>\n",
       "      <th>department_Finance</th>\n",
       "      <th>department_HR</th>\n",
       "      <th>department_Legal</th>\n",
       "      <th>department_Operations</th>\n",
       "      <th>department_Procurement</th>\n",
       "      <th>department_R&amp;D</th>\n",
       "      <th>department_Sales &amp; Marketing</th>\n",
       "      <th>department_Technology</th>\n",
       "      <th>...</th>\n",
       "      <th>recruitment_channel_sourcing</th>\n",
       "      <th>previous_year_rating_1.0</th>\n",
       "      <th>previous_year_rating_2.0</th>\n",
       "      <th>previous_year_rating_3.0</th>\n",
       "      <th>previous_year_rating_4.0</th>\n",
       "      <th>previous_year_rating_5.0</th>\n",
       "      <th>KPIs_met &gt;80%_0</th>\n",
       "      <th>KPIs_met &gt;80%_1</th>\n",
       "      <th>awards_won?_0</th>\n",
       "      <th>awards_won?_1</th>\n",
       "    </tr>\n",
       "  </thead>\n",
       "  <tbody>\n",
       "    <tr>\n",
       "      <th>0</th>\n",
       "      <td>0</td>\n",
       "      <td>0</td>\n",
       "      <td>0</td>\n",
       "      <td>0</td>\n",
       "      <td>0</td>\n",
       "      <td>0</td>\n",
       "      <td>0</td>\n",
       "      <td>0</td>\n",
       "      <td>1</td>\n",
       "      <td>0</td>\n",
       "      <td>...</td>\n",
       "      <td>1</td>\n",
       "      <td>0</td>\n",
       "      <td>0</td>\n",
       "      <td>0</td>\n",
       "      <td>0</td>\n",
       "      <td>1</td>\n",
       "      <td>0</td>\n",
       "      <td>1</td>\n",
       "      <td>1</td>\n",
       "      <td>0</td>\n",
       "    </tr>\n",
       "    <tr>\n",
       "      <th>1</th>\n",
       "      <td>0</td>\n",
       "      <td>0</td>\n",
       "      <td>0</td>\n",
       "      <td>0</td>\n",
       "      <td>0</td>\n",
       "      <td>1</td>\n",
       "      <td>0</td>\n",
       "      <td>0</td>\n",
       "      <td>0</td>\n",
       "      <td>0</td>\n",
       "      <td>...</td>\n",
       "      <td>0</td>\n",
       "      <td>0</td>\n",
       "      <td>0</td>\n",
       "      <td>0</td>\n",
       "      <td>0</td>\n",
       "      <td>1</td>\n",
       "      <td>1</td>\n",
       "      <td>0</td>\n",
       "      <td>1</td>\n",
       "      <td>0</td>\n",
       "    </tr>\n",
       "    <tr>\n",
       "      <th>2</th>\n",
       "      <td>0</td>\n",
       "      <td>0</td>\n",
       "      <td>0</td>\n",
       "      <td>0</td>\n",
       "      <td>0</td>\n",
       "      <td>0</td>\n",
       "      <td>0</td>\n",
       "      <td>0</td>\n",
       "      <td>1</td>\n",
       "      <td>0</td>\n",
       "      <td>...</td>\n",
       "      <td>1</td>\n",
       "      <td>0</td>\n",
       "      <td>0</td>\n",
       "      <td>1</td>\n",
       "      <td>0</td>\n",
       "      <td>0</td>\n",
       "      <td>1</td>\n",
       "      <td>0</td>\n",
       "      <td>1</td>\n",
       "      <td>0</td>\n",
       "    </tr>\n",
       "    <tr>\n",
       "      <th>3</th>\n",
       "      <td>0</td>\n",
       "      <td>0</td>\n",
       "      <td>0</td>\n",
       "      <td>0</td>\n",
       "      <td>0</td>\n",
       "      <td>0</td>\n",
       "      <td>0</td>\n",
       "      <td>0</td>\n",
       "      <td>1</td>\n",
       "      <td>0</td>\n",
       "      <td>...</td>\n",
       "      <td>0</td>\n",
       "      <td>1</td>\n",
       "      <td>0</td>\n",
       "      <td>0</td>\n",
       "      <td>0</td>\n",
       "      <td>0</td>\n",
       "      <td>1</td>\n",
       "      <td>0</td>\n",
       "      <td>1</td>\n",
       "      <td>0</td>\n",
       "    </tr>\n",
       "    <tr>\n",
       "      <th>4</th>\n",
       "      <td>0</td>\n",
       "      <td>0</td>\n",
       "      <td>0</td>\n",
       "      <td>0</td>\n",
       "      <td>0</td>\n",
       "      <td>0</td>\n",
       "      <td>0</td>\n",
       "      <td>0</td>\n",
       "      <td>0</td>\n",
       "      <td>1</td>\n",
       "      <td>...</td>\n",
       "      <td>0</td>\n",
       "      <td>0</td>\n",
       "      <td>0</td>\n",
       "      <td>1</td>\n",
       "      <td>0</td>\n",
       "      <td>0</td>\n",
       "      <td>1</td>\n",
       "      <td>0</td>\n",
       "      <td>1</td>\n",
       "      <td>0</td>\n",
       "    </tr>\n",
       "  </tbody>\n",
       "</table>\n",
       "<p>5 rows × 61 columns</p>\n",
       "</div>"
      ],
      "text/plain": [
       "  is_promoted  department_Analytics  department_Finance  department_HR  \\\n",
       "0           0                     0                   0              0   \n",
       "1           0                     0                   0              0   \n",
       "2           0                     0                   0              0   \n",
       "3           0                     0                   0              0   \n",
       "4           0                     0                   0              0   \n",
       "\n",
       "   department_Legal  department_Operations  department_Procurement  \\\n",
       "0                 0                      0                       0   \n",
       "1                 0                      1                       0   \n",
       "2                 0                      0                       0   \n",
       "3                 0                      0                       0   \n",
       "4                 0                      0                       0   \n",
       "\n",
       "   department_R&D  department_Sales & Marketing  department_Technology  ...  \\\n",
       "0               0                             1                      0  ...   \n",
       "1               0                             0                      0  ...   \n",
       "2               0                             1                      0  ...   \n",
       "3               0                             1                      0  ...   \n",
       "4               0                             0                      1  ...   \n",
       "\n",
       "   recruitment_channel_sourcing  previous_year_rating_1.0  \\\n",
       "0                             1                         0   \n",
       "1                             0                         0   \n",
       "2                             1                         0   \n",
       "3                             0                         1   \n",
       "4                             0                         0   \n",
       "\n",
       "   previous_year_rating_2.0  previous_year_rating_3.0  \\\n",
       "0                         0                         0   \n",
       "1                         0                         0   \n",
       "2                         0                         1   \n",
       "3                         0                         0   \n",
       "4                         0                         1   \n",
       "\n",
       "   previous_year_rating_4.0  previous_year_rating_5.0  KPIs_met >80%_0  \\\n",
       "0                         0                         1                0   \n",
       "1                         0                         1                1   \n",
       "2                         0                         0                1   \n",
       "3                         0                         0                1   \n",
       "4                         0                         0                1   \n",
       "\n",
       "   KPIs_met >80%_1  awards_won?_0  awards_won?_1  \n",
       "0                1              1              0  \n",
       "1                0              1              0  \n",
       "2                0              1              0  \n",
       "3                0              1              0  \n",
       "4                0              1              0  \n",
       "\n",
       "[5 rows x 61 columns]"
      ]
     },
     "execution_count": 86,
     "metadata": {},
     "output_type": "execute_result"
    }
   ],
   "source": [
    "objcols_dummy.head()"
   ]
  },
  {
   "cell_type": "code",
   "execution_count": 87,
   "id": "848dc249",
   "metadata": {},
   "outputs": [],
   "source": [
    "#concat both dataframes\n",
    "combinedf_clean=pd.concat([numcols,objcols_dummy],axis=1)"
   ]
  },
  {
   "cell_type": "code",
   "execution_count": 88,
   "id": "6289de0f",
   "metadata": {},
   "outputs": [],
   "source": [
    "hrtrain_df=combinedf_clean[combinedf_clean.is_promoted!='test']\n",
    "hrtest_df=combinedf_clean[combinedf_clean.is_promoted=='test']"
   ]
  },
  {
   "cell_type": "code",
   "execution_count": 89,
   "id": "4180648c",
   "metadata": {},
   "outputs": [],
   "source": [
    "hrtest_df=hrtest_df.drop('is_promoted',axis=1)"
   ]
  },
  {
   "cell_type": "code",
   "execution_count": 90,
   "id": "e8f50824",
   "metadata": {},
   "outputs": [],
   "source": [
    "#to check the excel output \n",
    "X=hrtrain_df[['no_of_trainings', 'age','length_of_service','avg_training_score']]\n",
    "y=hrtrain_df.is_promoted"
   ]
  },
  {
   "cell_type": "code",
   "execution_count": 91,
   "id": "33ed9169",
   "metadata": {},
   "outputs": [],
   "source": [
    "from sklearn.preprocessing import LabelEncoder"
   ]
  },
  {
   "cell_type": "code",
   "execution_count": 92,
   "id": "2edd932b",
   "metadata": {},
   "outputs": [],
   "source": [
    "y=LabelEncoder().fit_transform(y)"
   ]
  },
  {
   "cell_type": "code",
   "execution_count": 93,
   "id": "d0f195a8",
   "metadata": {},
   "outputs": [],
   "source": [
    "from sklearn.linear_model import LogisticRegression"
   ]
  },
  {
   "cell_type": "code",
   "execution_count": 94,
   "id": "66c1a48a",
   "metadata": {},
   "outputs": [],
   "source": [
    "logit=LogisticRegression()"
   ]
  },
  {
   "cell_type": "code",
   "execution_count": 95,
   "id": "0a04104c",
   "metadata": {},
   "outputs": [],
   "source": [
    "logitmodel=logit.fit(X,y)"
   ]
  },
  {
   "cell_type": "code",
   "execution_count": 96,
   "id": "14143b2c",
   "metadata": {},
   "outputs": [
    {
     "data": {
      "text/plain": [
       "0.9148299518318493"
      ]
     },
     "execution_count": 96,
     "metadata": {},
     "output_type": "execute_result"
    }
   ],
   "source": [
    "logitmodel.score(X,y) #Accuracy from confusion matrix"
   ]
  },
  {
   "cell_type": "code",
   "execution_count": 97,
   "id": "5a6e87a2",
   "metadata": {},
   "outputs": [
    {
     "data": {
      "text/plain": [
       "array([-5.06231887])"
      ]
     },
     "execution_count": 97,
     "metadata": {},
     "output_type": "execute_result"
    }
   ],
   "source": [
    "logitmodel.intercept_"
   ]
  },
  {
   "cell_type": "code",
   "execution_count": 98,
   "id": "96469da8",
   "metadata": {},
   "outputs": [
    {
     "data": {
      "text/html": [
       "<div>\n",
       "<style scoped>\n",
       "    .dataframe tbody tr th:only-of-type {\n",
       "        vertical-align: middle;\n",
       "    }\n",
       "\n",
       "    .dataframe tbody tr th {\n",
       "        vertical-align: top;\n",
       "    }\n",
       "\n",
       "    .dataframe thead th {\n",
       "        text-align: right;\n",
       "    }\n",
       "</style>\n",
       "<table border=\"1\" class=\"dataframe\">\n",
       "  <thead>\n",
       "    <tr style=\"text-align: right;\">\n",
       "      <th></th>\n",
       "      <th>no_of_trainings</th>\n",
       "      <th>age</th>\n",
       "      <th>length_of_service</th>\n",
       "      <th>avg_training_score</th>\n",
       "    </tr>\n",
       "  </thead>\n",
       "  <tbody>\n",
       "    <tr>\n",
       "      <th>0</th>\n",
       "      <td>-0.244386</td>\n",
       "      <td>-0.005327</td>\n",
       "      <td>0.002718</td>\n",
       "      <td>0.047163</td>\n",
       "    </tr>\n",
       "  </tbody>\n",
       "</table>\n",
       "</div>"
      ],
      "text/plain": [
       "   no_of_trainings       age  length_of_service  avg_training_score\n",
       "0        -0.244386 -0.005327           0.002718            0.047163"
      ]
     },
     "execution_count": 98,
     "metadata": {},
     "output_type": "execute_result"
    }
   ],
   "source": [
    "pd.DataFrame(logitmodel.coef_,columns=X.columns)"
   ]
  },
  {
   "cell_type": "code",
   "execution_count": 99,
   "id": "9871c6cd",
   "metadata": {},
   "outputs": [],
   "source": [
    "logitpredict=logitmodel.predict(X)"
   ]
  },
  {
   "cell_type": "code",
   "execution_count": 100,
   "id": "e5952979",
   "metadata": {},
   "outputs": [
    {
     "data": {
      "text/html": [
       "<div>\n",
       "<style scoped>\n",
       "    .dataframe tbody tr th:only-of-type {\n",
       "        vertical-align: middle;\n",
       "    }\n",
       "\n",
       "    .dataframe tbody tr th {\n",
       "        vertical-align: top;\n",
       "    }\n",
       "\n",
       "    .dataframe thead th {\n",
       "        text-align: right;\n",
       "    }\n",
       "</style>\n",
       "<table border=\"1\" class=\"dataframe\">\n",
       "  <thead>\n",
       "    <tr style=\"text-align: right;\">\n",
       "      <th>col_0</th>\n",
       "      <th>0</th>\n",
       "    </tr>\n",
       "    <tr>\n",
       "      <th>row_0</th>\n",
       "      <th></th>\n",
       "    </tr>\n",
       "  </thead>\n",
       "  <tbody>\n",
       "    <tr>\n",
       "      <th>0</th>\n",
       "      <td>50140</td>\n",
       "    </tr>\n",
       "    <tr>\n",
       "      <th>1</th>\n",
       "      <td>4668</td>\n",
       "    </tr>\n",
       "  </tbody>\n",
       "</table>\n",
       "</div>"
      ],
      "text/plain": [
       "col_0      0\n",
       "row_0       \n",
       "0      50140\n",
       "1       4668"
      ]
     },
     "execution_count": 100,
     "metadata": {},
     "output_type": "execute_result"
    }
   ],
   "source": [
    "pd.crosstab(y,logitpredict)#confusion matrix"
   ]
  },
  {
   "cell_type": "code",
   "execution_count": 101,
   "id": "41023a4f",
   "metadata": {},
   "outputs": [
    {
     "data": {
      "text/plain": [
       "0.9148299518318493"
      ]
     },
     "execution_count": 101,
     "metadata": {},
     "output_type": "execute_result"
    }
   ],
   "source": [
    "50140/(50140+4668)"
   ]
  },
  {
   "cell_type": "code",
   "execution_count": 102,
   "id": "335bed7b",
   "metadata": {},
   "outputs": [],
   "source": [
    "X=hrtrain_df.drop('is_promoted',axis=1)"
   ]
  },
  {
   "cell_type": "code",
   "execution_count": 103,
   "id": "9d6f6390",
   "metadata": {},
   "outputs": [],
   "source": [
    "logit=LogisticRegression(max_iter=2000,random_state=42)\n",
    "#ConvergenceWarning=all coeffi in equation are not calculated\n",
    "# increase iterations or scale independnt variables is solution"
   ]
  },
  {
   "cell_type": "code",
   "execution_count": 104,
   "id": "aae961b7",
   "metadata": {},
   "outputs": [],
   "source": [
    "logitmodel=logit.fit(X,y)"
   ]
  },
  {
   "cell_type": "code",
   "execution_count": 105,
   "id": "a9059576",
   "metadata": {},
   "outputs": [
    {
     "data": {
      "text/plain": [
       "0.9316340680192673"
      ]
     },
     "execution_count": 105,
     "metadata": {},
     "output_type": "execute_result"
    }
   ],
   "source": [
    "logitmodel.score(X,y)#accuracy from confusion matrix"
   ]
  },
  {
   "cell_type": "code",
   "execution_count": 106,
   "id": "0dd97a38",
   "metadata": {},
   "outputs": [],
   "source": [
    "logitpredict=logitmodel.predict(X)"
   ]
  },
  {
   "cell_type": "code",
   "execution_count": 107,
   "id": "34aef6a7",
   "metadata": {},
   "outputs": [
    {
     "data": {
      "text/html": [
       "<div>\n",
       "<style scoped>\n",
       "    .dataframe tbody tr th:only-of-type {\n",
       "        vertical-align: middle;\n",
       "    }\n",
       "\n",
       "    .dataframe tbody tr th {\n",
       "        vertical-align: top;\n",
       "    }\n",
       "\n",
       "    .dataframe thead th {\n",
       "        text-align: right;\n",
       "    }\n",
       "</style>\n",
       "<table border=\"1\" class=\"dataframe\">\n",
       "  <thead>\n",
       "    <tr style=\"text-align: right;\">\n",
       "      <th>col_0</th>\n",
       "      <th>0</th>\n",
       "      <th>1</th>\n",
       "    </tr>\n",
       "    <tr>\n",
       "      <th>row_0</th>\n",
       "      <th></th>\n",
       "      <th></th>\n",
       "    </tr>\n",
       "  </thead>\n",
       "  <tbody>\n",
       "    <tr>\n",
       "      <th>0</th>\n",
       "      <td>49832</td>\n",
       "      <td>308</td>\n",
       "    </tr>\n",
       "    <tr>\n",
       "      <th>1</th>\n",
       "      <td>3439</td>\n",
       "      <td>1229</td>\n",
       "    </tr>\n",
       "  </tbody>\n",
       "</table>\n",
       "</div>"
      ],
      "text/plain": [
       "col_0      0     1\n",
       "row_0             \n",
       "0      49832   308\n",
       "1       3439  1229"
      ]
     },
     "execution_count": 107,
     "metadata": {},
     "output_type": "execute_result"
    }
   ],
   "source": [
    "pd.crosstab(y,logitpredict)"
   ]
  },
  {
   "cell_type": "code",
   "execution_count": 108,
   "id": "28c9a5c2",
   "metadata": {},
   "outputs": [],
   "source": [
    "# TN - 49832\n",
    "# FP - 308\n",
    "# FN - 3439\n",
    "# TP - 1229\n",
    "\n",
    "# is_promoted - o is NO - Negative\n",
    "# is_promoted - 1 is Yes - Positive\n"
   ]
  },
  {
   "cell_type": "code",
   "execution_count": 109,
   "id": "40c43e4c",
   "metadata": {},
   "outputs": [
    {
     "data": {
      "text/plain": [
       "0.9316340680192673"
      ]
     },
     "execution_count": 109,
     "metadata": {},
     "output_type": "execute_result"
    }
   ],
   "source": [
    "(49832+1229)/(49832+308+3439+1229)"
   ]
  },
  {
   "cell_type": "code",
   "execution_count": 110,
   "id": "a2334bee",
   "metadata": {},
   "outputs": [
    {
     "data": {
      "text/plain": [
       "0.26328191945158524"
      ]
     },
     "execution_count": 110,
     "metadata": {},
     "output_type": "execute_result"
    }
   ],
   "source": [
    "#sensitivity or recall = TP/TP+FN\n",
    "1229/(1229+3439)"
   ]
  },
  {
   "cell_type": "code",
   "execution_count": 111,
   "id": "f8318d1c",
   "metadata": {},
   "outputs": [
    {
     "data": {
      "text/plain": [
       "0.9938571998404467"
      ]
     },
     "execution_count": 111,
     "metadata": {},
     "output_type": "execute_result"
    }
   ],
   "source": [
    "#specificity = TN/TN+FP\n",
    "49832/(49832+308)"
   ]
  },
  {
   "cell_type": "code",
   "execution_count": 112,
   "id": "ef25f686",
   "metadata": {},
   "outputs": [
    {
     "data": {
      "text/plain": [
       "0.7996096291476903"
      ]
     },
     "execution_count": 112,
     "metadata": {},
     "output_type": "execute_result"
    }
   ],
   "source": [
    "#precision = TP/TP+FP\n",
    "1229/(1229+308)"
   ]
  },
  {
   "cell_type": "code",
   "execution_count": 113,
   "id": "95d072e6",
   "metadata": {},
   "outputs": [
    {
     "data": {
      "text/plain": [
       "0.9354432993561225"
      ]
     },
     "execution_count": 113,
     "metadata": {},
     "output_type": "execute_result"
    }
   ],
   "source": [
    "#negative predict value = TN/TN+FN\n",
    "49832/(49832+3439)"
   ]
  },
  {
   "cell_type": "code",
   "execution_count": 114,
   "id": "745bd4ea",
   "metadata": {},
   "outputs": [
    {
     "data": {
      "text/plain": [
       "0.3961321514907333"
      ]
     },
     "execution_count": 114,
     "metadata": {},
     "output_type": "execute_result"
    }
   ],
   "source": [
    "#F1 score = 2*(precision*recall)/(precision+recall)\n",
    "2*(0.7996096291476903*0.26328191945158524)/(0.7996096291476903+0.26328191945158524)"
   ]
  },
  {
   "cell_type": "code",
   "execution_count": 115,
   "id": "ee4a0011",
   "metadata": {},
   "outputs": [],
   "source": [
    "from sklearn.metrics import classification_report"
   ]
  },
  {
   "cell_type": "code",
   "execution_count": 116,
   "id": "d2afc942",
   "metadata": {},
   "outputs": [
    {
     "name": "stdout",
     "output_type": "stream",
     "text": [
      "              precision    recall  f1-score   support\n",
      "\n",
      "           0       0.94      0.99      0.96     50140\n",
      "           1       0.80      0.26      0.40      4668\n",
      "\n",
      "    accuracy                           0.93     54808\n",
      "   macro avg       0.87      0.63      0.68     54808\n",
      "weighted avg       0.92      0.93      0.92     54808\n",
      "\n"
     ]
    }
   ],
   "source": [
    "print(classification_report(y,logitpredict))\n",
    "#imbalance data or imbalance in dependt variable classes\n",
    "# 0- 50140 majority class\n",
    "# 1- 4668 minority  class which is worst prediction"
   ]
  },
  {
   "cell_type": "code",
   "execution_count": 117,
   "id": "320a5b62",
   "metadata": {},
   "outputs": [],
   "source": [
    "from sklearn.tree import DecisionTreeClassifier"
   ]
  },
  {
   "cell_type": "code",
   "execution_count": 118,
   "id": "9074e82c",
   "metadata": {},
   "outputs": [],
   "source": [
    "tree=DecisionTreeClassifier(max_depth=12)"
   ]
  },
  {
   "cell_type": "code",
   "execution_count": 119,
   "id": "194e8c87",
   "metadata": {},
   "outputs": [],
   "source": [
    "treemodel=tree.fit(X,y)"
   ]
  },
  {
   "cell_type": "code",
   "execution_count": 120,
   "id": "b889eeed",
   "metadata": {},
   "outputs": [
    {
     "data": {
      "text/plain": [
       "0.9448620639322727"
      ]
     },
     "execution_count": 120,
     "metadata": {},
     "output_type": "execute_result"
    }
   ],
   "source": [
    "treemodel.score(X,y)"
   ]
  },
  {
   "cell_type": "code",
   "execution_count": 121,
   "id": "c8fa4c3d",
   "metadata": {},
   "outputs": [],
   "source": [
    "from sklearn.model_selection import cross_val_score"
   ]
  },
  {
   "cell_type": "code",
   "execution_count": 122,
   "id": "73f04bc6",
   "metadata": {},
   "outputs": [
    {
     "data": {
      "text/plain": [
       "array([0.93614304, 0.93504835, 0.93915344, 0.94106377, 0.93577228])"
      ]
     },
     "execution_count": 122,
     "metadata": {},
     "output_type": "execute_result"
    }
   ],
   "source": [
    "#cross validation - 5 times to confirm overfitting\n",
    "cross_val_score(tree,X,y)"
   ]
  },
  {
   "cell_type": "code",
   "execution_count": 123,
   "id": "994a269d",
   "metadata": {},
   "outputs": [],
   "source": [
    "tree_test_pred=treemodel.predict(hrtest_df)"
   ]
  },
  {
   "cell_type": "code",
   "execution_count": 124,
   "id": "e6a8db86",
   "metadata": {},
   "outputs": [],
   "source": [
    "pd.DataFrame(tree_test_pred).to_csv(\"tree.csv\")"
   ]
  },
  {
   "cell_type": "code",
   "execution_count": 125,
   "id": "794aafcf",
   "metadata": {},
   "outputs": [],
   "source": [
    "from sklearn.metrics import RocCurveDisplay"
   ]
  },
  {
   "cell_type": "code",
   "execution_count": 126,
   "id": "d53eb972",
   "metadata": {},
   "outputs": [
    {
     "data": {
      "text/plain": [
       "<sklearn.metrics._plot.roc_curve.RocCurveDisplay at 0x2c152edada0>"
      ]
     },
     "execution_count": 126,
     "metadata": {},
     "output_type": "execute_result"
    },
    {
     "data": {
      "image/png": "[encoded data removed]",
      "text/plain": [
       "<Figure size 640x480 with 1 Axes>"
      ]
     },
     "metadata": {},
     "output_type": "display_data"
    }
   ],
   "source": [
    "RocCurveDisplay.from_predictions(y,logitpredict)"
   ]
  },
  {
   "cell_type": "code",
   "execution_count": 65,
   "id": "b7f6939c",
   "metadata": {},
   "outputs": [
    {
     "data": {
      "text/plain": [
       "<sklearn.metrics._plot.roc_curve.RocCurveDisplay at 0x2c1518fbb20>"
      ]
     },
     "execution_count": 65,
     "metadata": {},
     "output_type": "execute_result"
    },
    {
     "data": {
      "image/png": "[encoded data removed]",
      "text/plain": [
       "<Figure size 640x480 with 1 Axes>"
      ]
     },
     "metadata": {},
     "output_type": "display_data"
    }
   ],
   "source": [
    "RocCurveDisplay.from_predictions(y,logitpredict)"
   ]
  },
  {
   "cell_type": "code",
   "execution_count": 127,
   "id": "1f51e672",
   "metadata": {},
   "outputs": [
    {
     "data": {
      "text/html": [
       "<div>\n",
       "<style scoped>\n",
       "    .dataframe tbody tr th:only-of-type {\n",
       "        vertical-align: middle;\n",
       "    }\n",
       "\n",
       "    .dataframe tbody tr th {\n",
       "        vertical-align: top;\n",
       "    }\n",
       "\n",
       "    .dataframe thead th {\n",
       "        text-align: right;\n",
       "    }\n",
       "</style>\n",
       "<table border=\"1\" class=\"dataframe\">\n",
       "  <thead>\n",
       "    <tr style=\"text-align: right;\">\n",
       "      <th></th>\n",
       "      <th>0</th>\n",
       "    </tr>\n",
       "  </thead>\n",
       "  <tbody>\n",
       "    <tr>\n",
       "      <th>avg_training_score</th>\n",
       "      <td>0.371155</td>\n",
       "    </tr>\n",
       "    <tr>\n",
       "      <th>department_Sales &amp; Marketing</th>\n",
       "      <td>0.145536</td>\n",
       "    </tr>\n",
       "    <tr>\n",
       "      <th>KPIs_met &gt;80%_0</th>\n",
       "      <td>0.100673</td>\n",
       "    </tr>\n",
       "    <tr>\n",
       "      <th>department_Operations</th>\n",
       "      <td>0.085676</td>\n",
       "    </tr>\n",
       "    <tr>\n",
       "      <th>awards_won?_1</th>\n",
       "      <td>0.053562</td>\n",
       "    </tr>\n",
       "    <tr>\n",
       "      <th>previous_year_rating_5.0</th>\n",
       "      <td>0.026697</td>\n",
       "    </tr>\n",
       "    <tr>\n",
       "      <th>department_Finance</th>\n",
       "      <td>0.025963</td>\n",
       "    </tr>\n",
       "    <tr>\n",
       "      <th>department_Analytics</th>\n",
       "      <td>0.025721</td>\n",
       "    </tr>\n",
       "    <tr>\n",
       "      <th>length_of_service</th>\n",
       "      <td>0.020428</td>\n",
       "    </tr>\n",
       "    <tr>\n",
       "      <th>age</th>\n",
       "      <td>0.017620</td>\n",
       "    </tr>\n",
       "    <tr>\n",
       "      <th>department_R&amp;D</th>\n",
       "      <td>0.017197</td>\n",
       "    </tr>\n",
       "    <tr>\n",
       "      <th>department_HR</th>\n",
       "      <td>0.014927</td>\n",
       "    </tr>\n",
       "    <tr>\n",
       "      <th>department_Procurement</th>\n",
       "      <td>0.012937</td>\n",
       "    </tr>\n",
       "    <tr>\n",
       "      <th>no_of_trainings</th>\n",
       "      <td>0.009653</td>\n",
       "    </tr>\n",
       "    <tr>\n",
       "      <th>region_region_22</th>\n",
       "      <td>0.005303</td>\n",
       "    </tr>\n",
       "    <tr>\n",
       "      <th>previous_year_rating_1.0</th>\n",
       "      <td>0.004721</td>\n",
       "    </tr>\n",
       "    <tr>\n",
       "      <th>region_region_7</th>\n",
       "      <td>0.004222</td>\n",
       "    </tr>\n",
       "    <tr>\n",
       "      <th>region_region_4</th>\n",
       "      <td>0.003788</td>\n",
       "    </tr>\n",
       "    <tr>\n",
       "      <th>department_Legal</th>\n",
       "      <td>0.003658</td>\n",
       "    </tr>\n",
       "    <tr>\n",
       "      <th>previous_year_rating_3.0</th>\n",
       "      <td>0.003314</td>\n",
       "    </tr>\n",
       "    <tr>\n",
       "      <th>previous_year_rating_4.0</th>\n",
       "      <td>0.002983</td>\n",
       "    </tr>\n",
       "    <tr>\n",
       "      <th>region_region_28</th>\n",
       "      <td>0.002721</td>\n",
       "    </tr>\n",
       "    <tr>\n",
       "      <th>department_Technology</th>\n",
       "      <td>0.002689</td>\n",
       "    </tr>\n",
       "    <tr>\n",
       "      <th>region_region_26</th>\n",
       "      <td>0.002678</td>\n",
       "    </tr>\n",
       "    <tr>\n",
       "      <th>recruitment_channel_sourcing</th>\n",
       "      <td>0.002346</td>\n",
       "    </tr>\n",
       "    <tr>\n",
       "      <th>previous_year_rating_2.0</th>\n",
       "      <td>0.002215</td>\n",
       "    </tr>\n",
       "    <tr>\n",
       "      <th>recruitment_channel_other</th>\n",
       "      <td>0.002162</td>\n",
       "    </tr>\n",
       "    <tr>\n",
       "      <th>education_Master's &amp; above</th>\n",
       "      <td>0.001942</td>\n",
       "    </tr>\n",
       "    <tr>\n",
       "      <th>education_Bachelor's</th>\n",
       "      <td>0.001928</td>\n",
       "    </tr>\n",
       "    <tr>\n",
       "      <th>gender_m</th>\n",
       "      <td>0.001789</td>\n",
       "    </tr>\n",
       "    <tr>\n",
       "      <th>gender_f</th>\n",
       "      <td>0.001789</td>\n",
       "    </tr>\n",
       "    <tr>\n",
       "      <th>region_region_19</th>\n",
       "      <td>0.001680</td>\n",
       "    </tr>\n",
       "    <tr>\n",
       "      <th>region_region_23</th>\n",
       "      <td>0.001679</td>\n",
       "    </tr>\n",
       "    <tr>\n",
       "      <th>region_region_3</th>\n",
       "      <td>0.001645</td>\n",
       "    </tr>\n",
       "    <tr>\n",
       "      <th>region_region_6</th>\n",
       "      <td>0.001582</td>\n",
       "    </tr>\n",
       "    <tr>\n",
       "      <th>region_region_2</th>\n",
       "      <td>0.001332</td>\n",
       "    </tr>\n",
       "    <tr>\n",
       "      <th>region_region_16</th>\n",
       "      <td>0.001226</td>\n",
       "    </tr>\n",
       "    <tr>\n",
       "      <th>recruitment_channel_referred</th>\n",
       "      <td>0.001047</td>\n",
       "    </tr>\n",
       "    <tr>\n",
       "      <th>region_region_11</th>\n",
       "      <td>0.000967</td>\n",
       "    </tr>\n",
       "    <tr>\n",
       "      <th>region_region_25</th>\n",
       "      <td>0.000966</td>\n",
       "    </tr>\n",
       "    <tr>\n",
       "      <th>region_region_13</th>\n",
       "      <td>0.000915</td>\n",
       "    </tr>\n",
       "    <tr>\n",
       "      <th>region_region_10</th>\n",
       "      <td>0.000873</td>\n",
       "    </tr>\n",
       "    <tr>\n",
       "      <th>region_region_15</th>\n",
       "      <td>0.000785</td>\n",
       "    </tr>\n",
       "    <tr>\n",
       "      <th>region_region_17</th>\n",
       "      <td>0.000776</td>\n",
       "    </tr>\n",
       "    <tr>\n",
       "      <th>region_region_24</th>\n",
       "      <td>0.000771</td>\n",
       "    </tr>\n",
       "    <tr>\n",
       "      <th>region_region_27</th>\n",
       "      <td>0.000766</td>\n",
       "    </tr>\n",
       "    <tr>\n",
       "      <th>region_region_31</th>\n",
       "      <td>0.000663</td>\n",
       "    </tr>\n",
       "    <tr>\n",
       "      <th>region_region_14</th>\n",
       "      <td>0.000564</td>\n",
       "    </tr>\n",
       "    <tr>\n",
       "      <th>region_region_5</th>\n",
       "      <td>0.000517</td>\n",
       "    </tr>\n",
       "    <tr>\n",
       "      <th>region_region_1</th>\n",
       "      <td>0.000506</td>\n",
       "    </tr>\n",
       "    <tr>\n",
       "      <th>region_region_12</th>\n",
       "      <td>0.000492</td>\n",
       "    </tr>\n",
       "    <tr>\n",
       "      <th>region_region_8</th>\n",
       "      <td>0.000490</td>\n",
       "    </tr>\n",
       "    <tr>\n",
       "      <th>region_region_21</th>\n",
       "      <td>0.000395</td>\n",
       "    </tr>\n",
       "    <tr>\n",
       "      <th>region_region_9</th>\n",
       "      <td>0.000393</td>\n",
       "    </tr>\n",
       "    <tr>\n",
       "      <th>region_region_30</th>\n",
       "      <td>0.000350</td>\n",
       "    </tr>\n",
       "    <tr>\n",
       "      <th>region_region_20</th>\n",
       "      <td>0.000291</td>\n",
       "    </tr>\n",
       "    <tr>\n",
       "      <th>KPIs_met &gt;80%_1</th>\n",
       "      <td>0.000284</td>\n",
       "    </tr>\n",
       "    <tr>\n",
       "      <th>region_region_29</th>\n",
       "      <td>0.000053</td>\n",
       "    </tr>\n",
       "    <tr>\n",
       "      <th>region_region_32</th>\n",
       "      <td>0.000000</td>\n",
       "    </tr>\n",
       "    <tr>\n",
       "      <th>region_region_18</th>\n",
       "      <td>0.000000</td>\n",
       "    </tr>\n",
       "    <tr>\n",
       "      <th>region_region_34</th>\n",
       "      <td>0.000000</td>\n",
       "    </tr>\n",
       "    <tr>\n",
       "      <th>education_Below Secondary</th>\n",
       "      <td>0.000000</td>\n",
       "    </tr>\n",
       "    <tr>\n",
       "      <th>awards_won?_0</th>\n",
       "      <td>0.000000</td>\n",
       "    </tr>\n",
       "    <tr>\n",
       "      <th>region_region_33</th>\n",
       "      <td>0.000000</td>\n",
       "    </tr>\n",
       "  </tbody>\n",
       "</table>\n",
       "</div>"
      ],
      "text/plain": [
       "                                     0\n",
       "avg_training_score            0.371155\n",
       "department_Sales & Marketing  0.145536\n",
       "KPIs_met >80%_0               0.100673\n",
       "department_Operations         0.085676\n",
       "awards_won?_1                 0.053562\n",
       "previous_year_rating_5.0      0.026697\n",
       "department_Finance            0.025963\n",
       "department_Analytics          0.025721\n",
       "length_of_service             0.020428\n",
       "age                           0.017620\n",
       "department_R&D                0.017197\n",
       "department_HR                 0.014927\n",
       "department_Procurement        0.012937\n",
       "no_of_trainings               0.009653\n",
       "region_region_22              0.005303\n",
       "previous_year_rating_1.0      0.004721\n",
       "region_region_7               0.004222\n",
       "region_region_4               0.003788\n",
       "department_Legal              0.003658\n",
       "previous_year_rating_3.0      0.003314\n",
       "previous_year_rating_4.0      0.002983\n",
       "region_region_28              0.002721\n",
       "department_Technology         0.002689\n",
       "region_region_26              0.002678\n",
       "recruitment_channel_sourcing  0.002346\n",
       "previous_year_rating_2.0      0.002215\n",
       "recruitment_channel_other     0.002162\n",
       "education_Master's & above    0.001942\n",
       "education_Bachelor's          0.001928\n",
       "gender_m                      0.001789\n",
       "gender_f                      0.001789\n",
       "region_region_19              0.001680\n",
       "region_region_23              0.001679\n",
       "region_region_3               0.001645\n",
       "region_region_6               0.001582\n",
       "region_region_2               0.001332\n",
       "region_region_16              0.001226\n",
       "recruitment_channel_referred  0.001047\n",
       "region_region_11              0.000967\n",
       "region_region_25              0.000966\n",
       "region_region_13              0.000915\n",
       "region_region_10              0.000873\n",
       "region_region_15              0.000785\n",
       "region_region_17              0.000776\n",
       "region_region_24              0.000771\n",
       "region_region_27              0.000766\n",
       "region_region_31              0.000663\n",
       "region_region_14              0.000564\n",
       "region_region_5               0.000517\n",
       "region_region_1               0.000506\n",
       "region_region_12              0.000492\n",
       "region_region_8               0.000490\n",
       "region_region_21              0.000395\n",
       "region_region_9               0.000393\n",
       "region_region_30              0.000350\n",
       "region_region_20              0.000291\n",
       "KPIs_met >80%_1               0.000284\n",
       "region_region_29              0.000053\n",
       "region_region_32              0.000000\n",
       "region_region_18              0.000000\n",
       "region_region_34              0.000000\n",
       "education_Below Secondary     0.000000\n",
       "awards_won?_0                 0.000000\n",
       "region_region_33              0.000000"
      ]
     },
     "execution_count": 127,
     "metadata": {},
     "output_type": "execute_result"
    }
   ],
   "source": [
    "pd.set_option(\"display.max_rows\",81)\n",
    "pd.DataFrame(treemodel.feature_importances_,X.columns).sort_values(by=0,ascending=False)"
   ]
  },
  {
   "cell_type": "code",
   "execution_count": 128,
   "id": "5923bdec",
   "metadata": {},
   "outputs": [
    {
     "data": {
      "text/plain": [
       "(54808, 64)"
      ]
     },
     "execution_count": 128,
     "metadata": {},
     "output_type": "execute_result"
    }
   ],
   "source": [
    "X.shape"
   ]
  },
  {
   "cell_type": "code",
   "execution_count": 129,
   "id": "f51ab460",
   "metadata": {},
   "outputs": [],
   "source": [
    "from sklearn.tree import plot_tree,export_text"
   ]
  },
  {
   "cell_type": "code",
   "execution_count": 130,
   "id": "5e570826",
   "metadata": {},
   "outputs": [
    {
     "data": {
      "image/png": "[encoded data removed]",
      "text/plain": [
       "<Figure size 2000x1000 with 1 Axes>"
      ]
     },
     "metadata": {},
     "output_type": "display_data"
    }
   ],
   "source": [
    "plt.figure(figsize=(20,10))\n",
    "plot_tree(treemodel,max_depth=3,feature_names=X.columns,filled=True)\n",
    "plt.show()"
   ]
  },
  {
   "cell_type": "code",
   "execution_count": 131,
   "id": "b2925779",
   "metadata": {},
   "outputs": [],
   "source": [
    "from sklearn.ensemble import RandomForestClassifier"
   ]
  },
  {
   "cell_type": "code",
   "execution_count": 132,
   "id": "4cc15832",
   "metadata": {},
   "outputs": [],
   "source": [
    "RF=RandomForestClassifier(n_estimators=100)"
   ]
  },
  {
   "cell_type": "code",
   "execution_count": 133,
   "id": "e9792c39",
   "metadata": {},
   "outputs": [],
   "source": [
    "RFmodel=RF.fit(X,y)"
   ]
  },
  {
   "cell_type": "code",
   "execution_count": 134,
   "id": "8b8d2b0f",
   "metadata": {},
   "outputs": [
    {
     "data": {
      "text/plain": [
       "0.999744562837542"
      ]
     },
     "execution_count": 134,
     "metadata": {},
     "output_type": "execute_result"
    }
   ],
   "source": [
    "RFmodel.score(X,y)"
   ]
  },
  {
   "cell_type": "code",
   "execution_count": 135,
   "id": "19b43391",
   "metadata": {},
   "outputs": [
    {
     "data": {
      "text/plain": [
       "array([0.9348659 , 0.92975734, 0.93304142, 0.93184928, 0.93111942])"
      ]
     },
     "execution_count": 135,
     "metadata": {},
     "output_type": "execute_result"
    }
   ],
   "source": [
    "cross_val_score(RF,X,y)"
   ]
  },
  {
   "cell_type": "code",
   "execution_count": 136,
   "id": "f1d90c31",
   "metadata": {},
   "outputs": [
    {
     "data": {
      "text/plain": [
       "0.9327105234409816"
      ]
     },
     "execution_count": 136,
     "metadata": {},
     "output_type": "execute_result"
    }
   ],
   "source": [
    "np.mean(cross_val_score(RF,X,y))"
   ]
  },
  {
   "cell_type": "code",
   "execution_count": 137,
   "id": "71b61b78",
   "metadata": {},
   "outputs": [],
   "source": [
    "RFpredict=y-RFmodel.predict(X)"
   ]
  },
  {
   "cell_type": "code",
   "execution_count": 138,
   "id": "3a500c1f",
   "metadata": {},
   "outputs": [],
   "source": [
    "RFresid=y-RFpredict"
   ]
  },
  {
   "cell_type": "code",
   "execution_count": 139,
   "id": "6e7dd72e",
   "metadata": {},
   "outputs": [
    {
     "data": {
      "text/plain": [
       "0.2915263162256697"
      ]
     },
     "execution_count": 139,
     "metadata": {},
     "output_type": "execute_result"
    }
   ],
   "source": [
    "np.sqrt(np.mean(RFresid**2))"
   ]
  },
  {
   "cell_type": "code",
   "execution_count": 140,
   "id": "94ded4d9",
   "metadata": {},
   "outputs": [],
   "source": [
    "RF_test_pred=RFmodel.predict(hrtest_df)"
   ]
  },
  {
   "cell_type": "code",
   "execution_count": 141,
   "id": "fb264cd2",
   "metadata": {},
   "outputs": [],
   "source": [
    "pd.DataFrame(RF_test_pred).to_csv(\"randomforest.csv\")"
   ]
  },
  {
   "cell_type": "code",
   "execution_count": 142,
   "id": "4991e30f",
   "metadata": {},
   "outputs": [],
   "source": [
    "from sklearn.ensemble import GradientBoostingClassifier"
   ]
  },
  {
   "cell_type": "code",
   "execution_count": 143,
   "id": "489f64b6",
   "metadata": {},
   "outputs": [],
   "source": [
    "GBR=GradientBoostingClassifier(n_estimators=100)"
   ]
  },
  {
   "cell_type": "code",
   "execution_count": 144,
   "id": "c04619ea",
   "metadata": {},
   "outputs": [],
   "source": [
    "GBRmodel=GBR.fit(X,y)"
   ]
  },
  {
   "cell_type": "code",
   "execution_count": 145,
   "id": "787b4df8",
   "metadata": {},
   "outputs": [
    {
     "data": {
      "text/plain": [
       "0.9406291052401109"
      ]
     },
     "execution_count": 145,
     "metadata": {},
     "output_type": "execute_result"
    }
   ],
   "source": [
    "GBRmodel.score(X,y)"
   ]
  },
  {
   "cell_type": "code",
   "execution_count": 146,
   "id": "82ea33d1",
   "metadata": {},
   "outputs": [],
   "source": [
    "GBR_test_pred=GBRmodel.predict(hrtest_df)"
   ]
  },
  {
   "cell_type": "code",
   "execution_count": 147,
   "id": "e5aff061",
   "metadata": {},
   "outputs": [],
   "source": [
    "pd.DataFrame(GBR_test_pred).to_csv(\"GBR_HR.csv\")"
   ]
  },
  {
   "cell_type": "code",
   "execution_count": null,
   "id": "6c6ad9da",
   "metadata": {},
   "outputs": [],
   "source": []
  }
 ],
 "metadata": {
  "kernelspec": {
   "display_name": "Python 3 (ipykernel)",
   "language": "python",
   "name": "python3"
  },
  "language_info": {
   "codemirror_mode": {
    "name": "ipython",
    "version": 3
   },
   "file_extension": ".py",
   "mimetype": "text/x-python",
   "name": "python",
   "nbconvert_exporter": "python",
   "pygments_lexer": "ipython3",
   "version": "3.10.9"
  }
 },
 "nbformat": 4,
 "nbformat_minor": 5
}
